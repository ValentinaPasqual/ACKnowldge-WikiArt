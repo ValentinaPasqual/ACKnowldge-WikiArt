{
 "cells": [
  {
   "cell_type": "markdown",
   "id": "260c234b",
   "metadata": {},
   "source": [
    "# Dataset Preprocessing"
   ]
  },
  {
   "cell_type": "code",
   "execution_count": 1,
   "id": "4b4d3c1d",
   "metadata": {},
   "outputs": [],
   "source": [
    "import json\n",
    "import os\n",
    "from collections import Counter\n",
    "import requests"
   ]
  },
  {
   "cell_type": "code",
   "execution_count": null,
   "id": "d10aa127",
   "metadata": {},
   "outputs": [],
   "source": [
    "folder_path = input('Local path of un-zipped folder') \n",
    "\n",
    "# C:/Users/valep/OneDrive/Documenti/PhD/Conjectures/ADHO23/experiments/data/artworks/"
   ]
  },
  {
   "cell_type": "markdown",
   "id": "0fc92f1f",
   "metadata": {},
   "source": [
    "Check if all files are not corrupted"
   ]
  },
  {
   "cell_type": "code",
   "execution_count": null,
   "id": "74dd2af5",
   "metadata": {},
   "outputs": [],
   "source": [
    "for filename in os.listdir(folder_path):\n",
    "    f = os.path.join(folder_path, filename)\n",
    "    json_file = open(f)\n",
    "    try:\n",
    "        data = json.load(json_file)\n",
    "    except:\n",
    "        print('error occurred at:', f)"
   ]
  },
  {
   "cell_type": "markdown",
   "id": "4ff0fba6",
   "metadata": {},
   "source": [
    "Remove all unattended items belonging to classes not relevant for this research (selected classes in the cell below have been  extracted from Wikidata via SPARQL queries as well as manually surveyed from data (see checker cell below))"
   ]
  },
  {
   "cell_type": "code",
   "execution_count": 3,
   "id": "089a3034",
   "metadata": {},
   "outputs": [],
   "source": [
    "wrong_entities = []\n",
    "film_subclasses = ['Q11424','Q24862','Q24865','Q24869','Q130232','Q157443','Q185529','Q188473','Q202866','Q219557','Q226730','Q229390','Q319221','Q332936','Q336144','Q369747','Q370630','Q421719','Q430525','Q455315','Q455620','Q459290','Q505119','Q506240','Q517386','Q628165','Q645928','Q652256','Q663106','Q677466','Q790192','Q842256','Q848512','Q882006','Q917641','Q959790','Q1054574','Q1067324','Q1135802','Q1146335','Q1200678','Q1251417','Q1257444','Q1268687','Q1320115','Q1339864','Q1361932','Q1397462','Q1899749','Q1933746','Q1935609','Q1994410','Q2125170','Q2143665','Q2156835','Q2165644','Q2190265','Q2301591','Q2484376','Q2523020','Q2903140','Q2973181','Q2997932','Q3066315','Q3072031','Q3072043','Q3294961','Q3327002','Q3585697','Q3634883','Q3648909','Q3745400','Q4220915','Q4484381','Q5145881','Q5156753','Q6133352','Q7130449','Q7257728','Q7299951','Q7858343','Q8030668','Q9259727','Q10282327','Q10475300','Q11570976','Q12410174','Q12912091','Q15859327','Q16034224','Q16721823','Q16909344','Q17013749','Q17123180','Q18011171','Q18011172','Q18156020','Q20202970','Q20442589','Q21858363','Q24887738','Q24960157','Q25212003','Q26225677','Q28735856','Q29017630','Q29226975','Q33111614','Q33373157','Q48816645','Q54344007','Q56240556','Q60753838','Q60965006','Q61283808','Q63302132','Q64777087','Q65194659','Q68974025','Q73504838','Q77906388','Q88400940','Q89928742','Q99526025','Q101973724','Q102706436','Q103888910','Q104840802','Q107210977','Q107210978','Q107418888','Q109108478','Q109122021','Q109323491','Q109733358','Q109911570','Q111241092','Q111590800','Q111745923','Q112149470','Q112318664','Q112633637','Q115122793','Q193977','Q245056','Q423504','Q735478','Q972687','Q2757149','Q6942568','Q7751682','Q7832972','Q7841716','Q11900986','Q11997526','Q17517379','Q20647642','Q20667187','Q31897275','Q47486001','Q83424438','Q105101851','Q110397019','Q29168811','Q69084760','Q112763972','Q113988651','Q542475','Q846544','Q3072039','Q7168625','Q8192124','Q11448155','Q63214877','Q100721968','Q102429885','Q104536994','Q104559206','Q109733318','Q111605989','Q248583','Q457832','Q622548','Q624771','Q860626','Q1115187','Q1788980','Q2331945','Q2678111','Q2843083','Q2991560','Q3677141','Q3745430','Q3778115','Q5070847','Q5151497','Q5778924','Q10631817','Q11298147','Q11894225','Q15804095','Q16950433','Q17112331','Q18331260','Q19952560','Q95440291','Q95952108','Q105813043','Q108466999','Q4373044','Q16254232','Q20649407','Q97016664','Q114051112','Q222639','Q1033891','Q1740789','Q1776156','Q2297927','Q4797626','Q20656232','Q78633168','Q104537013','Q104851179','Q332564','Q547760','Q987831','Q1047299','Q3249257','Q4765076','Q13377551','Q18089587','Q18648407','Q20089346','Q20650540','Q25110269','Q27959357','Q28968258','Q28968511','Q64100970','Q85632254','Q98807719','Q110854783','Q1502766','Q105606055','Q106728041','Q111953147','Q1060398','Q819652','Q1433443','Q2096633','Q10654943','Q15898171','Q22981906','Q66914288','Q78633775','Q104536870','Q3352071','Q1615638','Q3442060','Q6722594','Q102245189','Q1108032','Q11859599','Q15055012','Q6431798','Q653916','Q4453959','Q16127657','Q79637782','Q79638554','Q79639691','Q79640397','Q81718895','Q81719416','Q98701476','Q98802676','Q101071244','Q110940888','Q3072024','Q5449041','Q31836066','Q81635374','Q113930130','Q4984974','Q5442753','Q854995','Q1030329','Q1813543','Q1869909','Q22908155','Q48781895','Q59688552','Q73403617','Q106841600','Q11356864','Q17093751','Q643684','Q4839755','Q5400070','Q7097859','Q2518205','Q496523','Q586250','Q2101714','Q2273331','Q2642760','Q5897543','Q7444356','Q19367312','Q25533274','Q109733630','Q12049743','Q25230421','Q104536771','Q212781','Q535518','Q580013','Q583768','Q883179','Q1092361','Q1377546','Q1474387','Q1941707','Q2254193','Q2292320','Q2445146','Q3677202','Q4044177','Q4047254','Q4075563','Q4875794','Q5032666','Q5578091','Q5768328','Q5872891','Q6926334','Q7116678','Q16984663','Q24905792','Q66425231','Q81746082','Q96405489','Q5413472','Q7542092','Q97191621','Q108084492','Q1114505','Q52162262','Q56304998','Q108921056','Q223770','Q1117103','Q895583','Q2281511','Q3076696','Q7645884','Q108202392','Q108212954','Q108258724','Q111278985','Q111279477','Q12076696','Q31898054','Q111147075','Q1957385','Q91106056','Q3786423','Q38608778','Q104623069','Q109733294','Q109733304','Q109733333','Q55164242','Q7551110','Q157394','Q200092','Q471839','Q1342372','Q1535153','Q20443008','Q20656352','Q66948581','Q43911809','Q6457531','Q112110143','Q3355734','Q7551315','Q28026639','Q576131','Q20267837','Q60848413','Q1390819','Q43096126','Q102141681','Q104097073','Q105320349','Q114079176','Q93204','Q3377903','Q4677832','Q104880835','Q2023874','Q114075477','Q240862','Q914242','Q5338721','Q26225765','Q66503284','Q99526021','Q99526024','Q459435','Q472637','Q596138','Q1092621','Q1234018','Q1271310','Q1323308','Q1352102','Q1371394','Q1464369','Q1480924','Q1760864','Q1800833','Q2084909','Q2096046','Q2670855','Q3566966','Q7301269','Q20732395','Q21028464','Q27697957','Q31884194','Q106117184','Q112886212','Q113106706','Q5769663','Q5855976','Q31086090','Q63860397','Q104536896','Q1147986','Q2006167','Q20871935','Q55960075','Q63208582','Q78331840','Q87000729','Q93376240','Q98406740','Q102133820','Q102222054','Q108387267','Q798555','Q853630','Q909586','Q1723850','Q2600159','Q4925568','Q5551875','Q7256286','Q10674355','Q16247268','Q18355406','Q23044991','Q60791959','Q102260466','Q104902646','Q109626272','Q109628205','Q109628222','Q109629396','Q109653382','Q109653402','Q109653422','Q114413232','Q8066387','Q4836991','Q107458055','Q16824564','Q1341051','Q47009776','Q64705787','Q103925569','Q104765957','Q109733685','Q109733760','Q20183934','Q3799185','Q7249835','Q7905668','Q18398246','Q67414381','Q169672','Q622310','Q3072042','Q3745429','Q5104880','Q104176285','Q111306560','Q113671041','Q2991565','Q1065444','Q2137852','Q3072049','Q5258881','Q112228224','Q113008327','Q4840473','Q6729489','Q1662452','Q10280356','Q11116488','Q2145099','Q109653474','Q16927904','Q30900100','Q108202384','Q1324620','Q172067','Q731194','Q33130924','Q849666','Q18089617','Q28404878','Q220898','Q3454252','Q17175676','Q26196748','Q2584671','Q2973154','Q5620056','Q109653432','Q492951','Q52207310','Q52207399','Q548206','Q931552','Q110876331','Q108202399','Q111280422','Q109358431','Q668312','Q1046788','Q8049065','Q18655723','Q21997246','Q113687694','Q3059309','Q7551149','Q112841248','Q103109864','Q1172910','Q5769580','Q5769583','Q5769586','Q5769589','Q5769592','Q3684597','Q964061','Q1747837','Q105967840','Q30897819','Q1696148','Q845159','Q84322932','Q84322930']\n",
    "manually_surveyed_classes = ['Q356055', 'Q193977', 'Q35127', 'Q226730', 'Q18956797', 'Q431289', 'Q67655225', 'Q941530', 'Q12912091', 'Q7603925', 'Q1259759', 'Q7889', 'Q1755420', 'Q28225717', 'Q14623351', 'Q1742009', 'Q2001305', 'Q14346334', 'Q10676514', 'Q28195059', 'Q61220733', 'Q819122', 'Q2290276', 'Q3511312', 'Q29555881', 'Q21664088', 'Q24862', 'Q100707163', 'Q662197', 'Q24886171', 'Q27868077', 'Q21191019', 'Q1273568', 'Q662197', 'Q482612', 'Q19969268', 'Q561068', 'Q107636953', 'Q61456428', 'Q2123557', 'Q130232', 'Q1484397', 'Q56196027', 'Q29982285', 'Q18089617', 'Q59126', 'Q193979', 'Q73626664', 'Q182415', 'Q1407245', 'Q1358344', 'Q561068', 'Q1261214', 'Q620615', 'Q846662', 'Q336181', 'Q111223304', 'Q431102', 'Q11424', 'Q21664088', 'Q4393107', 'Q116634','Q3257925', 'Q1635956', 'Q1121542', 'Q7889', 'Q201658', 'Q11086742', 'Q1047299', 'Q23745', 'Q17317604','Q868557', 'Q1364556', 'Q21188110', 'Q41270', 'Q359414', 'Q23739', 'Q113671041', 'Q18089587', 'Q25110269', 'Q2500107', 'Q844580', 'Q1366112', 'Q1464125', 'Q1366112', 'Q482994', 'Q54767', 'Q209163', 'Q1555508', 'Q848991', 'Q399811', 'Q89273633', 'Q240862', 'Q19314966','Q721067','Q35516','Q15275719','Q15116915', 'Q3684598', 'Q93204', 'Q11424', 'Q1573906', 'Q98807719','Q171', 'Q381165', 'Q653916', 'Q854995','Q1869909', 'Q7978994', 'Q98701476', 'Q260676', 'Q1107','Q47467768', 'Q64100970', 'Q472637', 'Q202866', 'Q229390', 'Q104640199', 'Q29168811', 'Q56884562', 'Q112149470', 'Q110900120', 'Q111241092', 'Q104604495', 'Q73548809', 'Q24856','Q58483083','Q220898', 'Q55422400', 'Q526877', 'Q18011172', 'Q581714','Q24869', 'Q63952888', 'Q24634210', 'Q5398426', 'Q341', 'Q166142', 'Q20825628', 'Q7889', 'Q21125433', 'Q53534649', 'Q744099', 'Q17517379', 'Q26896697', 'Q182832', 'Q20650540', 'Q17146139', 'Q15416', 'Q7889', 'Q26887310', 'Q21191270', 'Q105543609', 'Q134556', 'Q11424', 'Q26895936', 'Q482994', 'Q1539532', 'Q3464665', 'Q506240', 'Q169930', 'Q55850593', 'Q26894053', 'Q61855877', 'Q1320115', 'Q1268687', 'Q10475300', 'Q28968258', 'Q47000326', 'Q776061', 'Q4257172', 'Q627933', 'Q13593818', 'Q9335576', 'Q11424', 'Q1030329', 'Q163740', 'Q20871935', 'Q2085381', 'Q15783838', 'Q55082620', 'Q95737275', 'Q104775758', 'Q3951815', 'Q7724161', 'Q336144', 'Q21191068', 'Q1800833', 'Q17049334', 'Q1760864', 'Q7366', 'Q622370', 'Q4830453', 'Q1464369', 'Q596138', 'Q370630', 'Q27912070', 'Q430525', 'Q93992677', 'Q459290', 'Q184973', 'Q106529593', 'Q64170508', 'Q106529593', 'Q106603795', 'Q2388283', 'Q7889', 'Q219557', 'Q175173', 'Q1292520', 'Q50062923', 'Q63035828', 'Q21232614', 'Q25360500', 'Q24865', 'Q3080071', 'Q26989423', 'Q145806', 'Q57608327', 'Q1619206', 'Q11410', 'Q17558136', 'Q7889', 'Q261636', 'Q4164344', 'Q61475894', 'Q1472288', 'Q986699', 'Q65963104', 'Q11424', 'Q865493', 'Q622812','Q16070115', 'Q11086745', 'Q1015325', 'Q1658957', 'Q113871081']\n",
    "\n",
    "wrong_entities = set(film_subclasses) | set(manually_surveyed_classes)\n",
    "wrong_entities = list(set(wrong_entities))"
   ]
  },
  {
   "cell_type": "code",
   "execution_count": null,
   "id": "fc3aa42b",
   "metadata": {},
   "outputs": [],
   "source": [
    "def remove_irrelevant_elements(folder, wrong_entities):\n",
    "    \n",
    "    for filename in os.listdir(folder):\n",
    "        lista = []\n",
    "        f = os.path.join(folder, filename)\n",
    "        json_file = open(f)\n",
    "        print(f)\n",
    "        data = json.load(json_file)\n",
    "        for key in data['entities']:\n",
    "            list_of_classes = []\n",
    "            for claim in data['entities'][key]['claims']['P31']:\n",
    "                class_id = claim['mainsnak']['datavalue']['value']['id']\n",
    "                list_of_classes.append(class_id)\n",
    "            \n",
    "            if (set(list_of_classes) & set(wrong_entities)):\n",
    "                lista.append(key)\n",
    "            \n",
    "        if len(lista) > 0:\n",
    "            for el in lista:\n",
    "                del data['entities'][el]\n",
    "            with open(f, \"w\") as jsonFile:\n",
    "                json.dump(data, jsonFile)\n",
    "        else:\n",
    "            continue\n",
    "                  \n",
    "remove_irrelevant_elements(folder_path, wrong_entities)"
   ]
  },
  {
   "cell_type": "markdown",
   "id": "caed5aa3",
   "metadata": {},
   "source": [
    "Check if in the dataset still exist elements which are not relevant for this research. The check is performed via significant properties (stored in checker variable) which are usually linked to cinematographic/music items, which have to be discarded from our selection."
   ]
  },
  {
   "cell_type": "code",
   "execution_count": null,
   "id": "2b66e66b",
   "metadata": {},
   "outputs": [],
   "source": [
    "checker = ['P668', 'P161', 'P348', 'P8687']\n",
    "\n",
    "for filename in os.listdir(folder_path):\n",
    "    f = os.path.join(folder_path, filename)\n",
    "    json_file = open(f)\n",
    "    data = json.load(json_file)\n",
    "    for key in data['entities']:\n",
    "        for prop in data['entities'][key]['claims']:\n",
    "            if prop in checker:\n",
    "                url = 'https://query.wikidata.org/sparql'\n",
    "                query = '''\n",
    "                SELECT ?classLabel ?class\n",
    "                WHERE {wd:'''+ key +''' wdt:P31 ?class.\n",
    "                SERVICE wikibase:label { bd:serviceParam wikibase:language \"[AUTO_LANGUAGE],en\". } }\n",
    "                ''' \n",
    "                try:\n",
    "                    r = requests.get(url, params = {'format': 'json', 'query': query})\n",
    "                    res = r.json()\n",
    "                    print(key, res['results']['bindings'][0]['class']['value'], res['results']['bindings'][0]['classLabel']['value'])\n",
    "                except:\n",
    "                    print('query does not work with entity: ', key) "
   ]
  },
  {
   "cell_type": "markdown",
   "id": "e62632b0",
   "metadata": {},
   "source": [
    "Look for duplicated entities in the dataset"
   ]
  },
  {
   "cell_type": "code",
   "execution_count": null,
   "id": "4eb54cfa",
   "metadata": {},
   "outputs": [],
   "source": [
    "def select_duplicates(folder):\n",
    "    all_entities = []\n",
    "    for filename in os.listdir(folder):\n",
    "        f = os.path.join(folder, filename)\n",
    "        print(f)\n",
    "        json_file = open(f)\n",
    "        data = json.load(json_file)\n",
    "        for key in data['entities']:\n",
    "            all_entities.append(key)\n",
    "\n",
    "    counted_keys = Counter(all_entities)\n",
    "    return (counted_keys)\n",
    "\n",
    "counted_entities = select_duplicates(folder_path)\n",
    "\n",
    "duplicates = {}\n",
    "for x,y in counted_entities.items():\n",
    "    if y > 1:\n",
    "        duplicates.update({x:y})\n",
    "\n",
    "n=0\n",
    "for k,v in duplicates.items():\n",
    "    n+=v-1\n",
    "print(n) # if the printed result is 0 no duplicates exist in the dataset"
   ]
  },
  {
   "cell_type": "markdown",
   "id": "10f25786",
   "metadata": {},
   "source": [
    "If there exist some duplicates in the dataset, remove them"
   ]
  },
  {
   "cell_type": "code",
   "execution_count": null,
   "id": "5136032a",
   "metadata": {},
   "outputs": [],
   "source": [
    "def remove_duplicates(folder, duplicates):      \n",
    "    for filename in os.listdir(folder):\n",
    "        lista = []\n",
    "        f = os.path.join(folder, filename)\n",
    "        json_file = open(f)\n",
    "        print(f)\n",
    "        data = json.load(json_file)\n",
    "        for key in data['entities']:\n",
    "            if key in duplicates.keys():\n",
    "                if duplicates[key] > 1:\n",
    "                    lista.append(key)\n",
    "                    duplicates.update({key:duplicates[key]-1})\n",
    "        for el in lista:\n",
    "            del data['entities'][el]\n",
    "            with open(f, \"w\") as jsonFile:\n",
    "                json.dump(data, jsonFile)\n",
    "\n",
    "remove_duplicates(folder_path, duplicates)                   "
   ]
  },
  {
   "cell_type": "markdown",
   "id": "37552f48",
   "metadata": {},
   "source": [
    "Reorganise the cleaned and filtered data and save them in a new folder storing n json files each containing 200 entities"
   ]
  },
  {
   "cell_type": "code",
   "execution_count": null,
   "id": "69b53707",
   "metadata": {},
   "outputs": [],
   "source": [
    "def compact_jsons(folder, output_folder):\n",
    "    new_data = {}\n",
    "    i = 0\n",
    "    for filename in os.listdir(folder):\n",
    "        f = os.path.join(folder, filename)\n",
    "        json_file = open(f)\n",
    "        print(f)\n",
    "        data = json.load(json_file)\n",
    "        if len(data['entities']) > 0:\n",
    "            new_data.update(data['entities'])\n",
    "        while len(new_data) >= 200:\n",
    "            data_to_write = {\"entities\": dict(list(new_data.items())[0:200]), \"success\": 1}\n",
    "            i += 1\n",
    "            with open(output_folder + 'artworks' + str(i) + '.json', 'w') as new_f:\n",
    "                json.dump(data_to_write, new_f, indent=4)\n",
    "            new_data = dict(list(new_data.items())[200:])\n",
    "            data_to_write = {}\n",
    "                \n",
    "    if len(new_data) > 0:\n",
    "        i += 1\n",
    "        data_to_write = {\"entities\": dict(list(new_data.items())[0:200]), \"success\": 1}\n",
    "        with open(output_folder + 'artworks' + str(i) + '.json', 'w') as new_f:\n",
    "                json.dump(data_to_write, new_f, indent=4)                 \n",
    "            \n",
    "compact_jsons(folder_path, 'data/selected_artworks/')"
   ]
  }
 ],
 "metadata": {
  "kernelspec": {
   "display_name": "Python 3 (ipykernel)",
   "language": "python",
   "name": "python3"
  },
  "language_info": {
   "codemirror_mode": {
    "name": "ipython",
    "version": 3
   },
   "file_extension": ".py",
   "mimetype": "text/x-python",
   "name": "python",
   "nbconvert_exporter": "python",
   "pygments_lexer": "ipython3",
   "version": "3.10.8"
  }
 },
 "nbformat": 4,
 "nbformat_minor": 5
}
